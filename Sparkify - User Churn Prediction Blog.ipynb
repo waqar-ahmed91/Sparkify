{
 "cells": [
  {
   "cell_type": "markdown",
   "metadata": {},
   "source": [
    "![title](sparkify.jpg)"
   ]
  },
  {
   "cell_type": "markdown",
   "metadata": {},
   "source": [
    "# Project Overview\n",
    "This project is all about analyzing and predicting the churn rate of the users from the data provided by a fictional music streaming company called 'Sparkify'. Users used this platform as a free member and paid member. While using the service data is generated in terms of playing a song, visiting a page etc.. According to the company some users downgraded their services from paid to free and some leave the services after using it for some time. So the main purpose of this project is to design a model that can predict the churn rate of the users according to the data provided.\n",
    "\n",
    "# Problem Statement\n",
    "Predict the churn rate of the users i.e if a user downgrade his/her services to free from paid subscription or leave the services/deactivate his/her account from the platform. For this purpose a machine learning model will be build from using different features to predict the churn of a new customer according to his/her activity while using the Sparkify platform.\n",
    "\n",
    "# Metrics\n",
    "f1-score (combination of precision and recall) is used to measure and evaluate the performance of the machine learning model on the dataset provided."
   ]
  },
  {
   "cell_type": "markdown",
   "metadata": {},
   "source": [
    "# Data Wrangling\n",
    "After importing the required libraries premilinary data wrangling was performed on the dataset to check and clean the data for exploration purpose.\n",
    "\n",
    "The dataset was messy and most of the datatypes are incorrect as well as some of the data are missing so thorough data wrangling process is used to clean the data as much as possible to make the data consistent and suitable for analysis.\n"
   ]
  },
  {
   "cell_type": "markdown",
   "metadata": {},
   "source": [
    "# Exploratory Data Analysis"
   ]
  },
  {
   "cell_type": "markdown",
   "metadata": {},
   "source": [
    "### Gender"
   ]
  },
  {
   "cell_type": "markdown",
   "metadata": {},
   "source": [
    "According to the data Analysis there are:\n",
    "\n",
    "121 <b>male</b> and\n",
    "\n",
    "104 <b>female</b> users are in the data."
   ]
  },
  {
   "cell_type": "markdown",
   "metadata": {},
   "source": [
    "![title](gender_code.png)"
   ]
  },
  {
   "cell_type": "markdown",
   "metadata": {},
   "source": [
    "### Paid and Free Users\n",
    "![title](pf_users.png)"
   ]
  },
  {
   "cell_type": "markdown",
   "metadata": {},
   "source": [
    "There are 195 free and 165 paid users on the Sparkify App/Platform."
   ]
  },
  {
   "cell_type": "markdown",
   "metadata": {},
   "source": [
    "### Churned and Non-Churned Users\n",
    "![title](churn_users.png)"
   ]
  },
  {
   "cell_type": "markdown",
   "metadata": {},
   "source": [
    "Number of churned users are 52 while 173 users are still using the App."
   ]
  },
  {
   "cell_type": "markdown",
   "metadata": {},
   "source": [
    "### Churn Rate Among Genders"
   ]
  },
  {
   "cell_type": "markdown",
   "metadata": {},
   "source": [
    "![title](gender.png)"
   ]
  },
  {
   "cell_type": "markdown",
   "metadata": {},
   "source": [
    "According to above data more male members churned from the platform as compared to female members while the number of male members are higher as compared to females"
   ]
  },
  {
   "cell_type": "markdown",
   "metadata": {},
   "source": [
    "### Churned Rate as Per the Level of Using Service\n",
    "36 users churned from the paid services while most of the users are using the free services of the platform\n",
    "\n",
    "![title](level_churn.png)"
   ]
  },
  {
   "cell_type": "markdown",
   "metadata": {},
   "source": [
    "### Majority Users Location\n",
    "Majority of the users are from Los Angeles while users from New York left or downgraded the services from paid to free.\n",
    "![title](location.png)"
   ]
  },
  {
   "cell_type": "markdown",
   "metadata": {},
   "source": [
    "# Feature Engineering\n",
    "After some thorough data analysis and visualization few of the features are taken from the dataset to train the model to predict the new users churn rate. For this purpose following features has been selected after thorough cleaning and observations\n",
    "![title](feature_selection.png)"
   ]
  },
  {
   "cell_type": "markdown",
   "metadata": {},
   "source": [
    "Before training the models churned column name from the above dataset is changed to label.\n",
    "\n",
    "![title](label_name.png)"
   ]
  },
  {
   "cell_type": "markdown",
   "metadata": {},
   "source": [
    "# Modeling\n"
   ]
  },
  {
   "cell_type": "markdown",
   "metadata": {},
   "source": [
    "After feature engineering and selection data is split into train and test set as well as vector assember and standard scaler is used on the dataset for training the models and getting the better accuracy.\n",
    "\n",
    "![title](modeling.png)"
   ]
  },
  {
   "cell_type": "markdown",
   "metadata": {},
   "source": [
    "# Models\n",
    "Logistic Regression and Random Forest Classifier has been used to fit the train data to predict the test data."
   ]
  },
  {
   "cell_type": "markdown",
   "metadata": {},
   "source": [
    "### Logistic Regression\n",
    "![title](lr.png)"
   ]
  },
  {
   "cell_type": "markdown",
   "metadata": {},
   "source": [
    "### Logistic Regression f1-score\n",
    "\n",
    "![title](lr_f1.png)"
   ]
  },
  {
   "cell_type": "markdown",
   "metadata": {},
   "source": [
    "f1-score for Logistic Regression was approximately **65.5%**."
   ]
  },
  {
   "cell_type": "markdown",
   "metadata": {},
   "source": [
    "### Random Forest Classifier\n",
    "![title](rf.png)"
   ]
  },
  {
   "cell_type": "markdown",
   "metadata": {},
   "source": [
    "### Random Forest f1-score\n",
    "![title](rf_f1.png)"
   ]
  },
  {
   "cell_type": "markdown",
   "metadata": {},
   "source": [
    "f1-score for Random Forest was approximately **65.5%** somehow same as Logistic Regression."
   ]
  },
  {
   "cell_type": "markdown",
   "metadata": {},
   "source": [
    "# Conclusion\n",
    "According to the above f1-scores both the models Logistic Regression and Random Forest performed same in terms of precision and recall having f1-score approximately **65.5%**.\n",
    "\n",
    "### Further Improvements\n",
    "1. Different models can be used to train the data other than Logistic and Random Forest to compare the f1-score of those models with the above ones.\n",
    "2. More parameter grids can be used to train the model which definitely take a lot of time.\n",
    "3. Large number of dataset can be used to train the models to predict the churn rate."
   ]
  },
  {
   "cell_type": "code",
   "execution_count": null,
   "metadata": {},
   "outputs": [],
   "source": []
  }
 ],
 "metadata": {
  "kernelspec": {
   "display_name": "Python 3",
   "language": "python",
   "name": "python3"
  },
  "language_info": {
   "codemirror_mode": {
    "name": "ipython",
    "version": 3
   },
   "file_extension": ".py",
   "mimetype": "text/x-python",
   "name": "python",
   "nbconvert_exporter": "python",
   "pygments_lexer": "ipython3",
   "version": "3.8.5"
  }
 },
 "nbformat": 4,
 "nbformat_minor": 4
}
