{
 "cells": [
  {
   "cell_type": "markdown",
   "metadata": {},
   "source": [
    "# Sparkify Project Workspace\n",
    "This workspace contains a tiny subset (128MB) of the full dataset available (12GB). Feel free to use this workspace to build your project, or to explore a smaller subset with Spark before deploying your cluster on the cloud. Instructions for setting up your Spark cluster is included in the last lesson of the Extracurricular Spark Course content.\n",
    "\n",
    "You can follow the steps below to guide your data analysis and model building portion of this project."
   ]
  },
  {
   "cell_type": "markdown",
   "metadata": {},
   "source": [
    "# Project Overview\n",
    "This project is all about analyzing and predicting the churn rate of the users from the data provided by a fictional music streaming company called 'Sparkify'. Users used this platform as a free member and paid member. While using the service data is generated in terms of playing a song, visiting a page etc.. According to the company some users downgraded their services from paid to free and some leave the services after using it for some time. So the main purpose of this project is to design a model that can predict the churn rate of the users according to the data provided."
   ]
  },
  {
   "cell_type": "markdown",
   "metadata": {},
   "source": [
    "# Problem Statement\n",
    "Predict the churn rate of the users i.e if a user downgrade his/her services to free from paid subscription or leave the services/deactivate his/her account from the platform. For this purpose a machine learning model will be build from using different features to predict the churn of a new customer according to his/her activity while using the Sparkify platform.\n",
    "\n",
    "The full dataset is about 12 GB in space which is suitable for Amazon EMR cluster while we use the mini dataset that is 128 MB in size to carry on the task and prepare all the necessary tasks before going for the full dataset. Apache Spark engine will be used to process and analyze the large scale data and as it is a classfication problem to predict if users churn or not so  following machine learning techniques will be used to predict the churn rate of the users.\n",
    "1. Linear Regression\n",
    "2. Random Forest Classifier\n",
    "\n",
    "Other than these above mentioned models there are other classification models which can be used to check and get even better performance."
   ]
  },
  {
   "cell_type": "markdown",
   "metadata": {},
   "source": [
    "# Metrics\n",
    "f1-score (combination of precision and recall) will be used to measure and evaluate the performance of the machine learning model on the dataset provided.\n",
    "The main reason to use f1-score to measure the performance is because the churned user data is imbalance in the dataset due to its unequal distribution so to achieve a balanced results f1-score will be used."
   ]
  },
  {
   "cell_type": "markdown",
   "metadata": {},
   "source": [
    "### Importing Libraries"
   ]
  },
  {
   "cell_type": "code",
   "execution_count": 1,
   "metadata": {},
   "outputs": [],
   "source": [
    "# import libraries\n",
    "import pandas as pd\n",
    "import numpy as np\n",
    "import matplotlib.pyplot as plt\n",
    "import seaborn as sns\n",
    "import datetime\n",
    "import re\n",
    "\n",
    "from pyspark.sql import SparkSession, Window\n",
    "from pyspark.sql.functions import avg, col, concat, desc, explode, lit, min, max, split, udf, sum\n",
    "from pyspark.sql.types import IntegerType\n",
    "\n",
    "from pyspark.ml import Pipeline\n",
    "from pyspark.ml.classification import LogisticRegression, RandomForestClassifier\n",
    "from pyspark.ml.evaluation import MulticlassClassificationEvaluator\n",
    "from pyspark.ml.feature import CountVectorizer, IDF, Normalizer, PCA, RegexTokenizer, StandardScaler, StopWordsRemover, StringIndexer, VectorAssembler\n",
    "from pyspark.ml.regression import LinearRegression\n",
    "from pyspark.ml.tuning import CrossValidator, ParamGridBuilder\n",
    "from pyspark.ml.evaluation import MulticlassClassificationEvaluator,BinaryClassificationEvaluator\n",
    "\n",
    "%matplotlib inline"
   ]
  },
  {
   "cell_type": "code",
   "execution_count": 2,
   "metadata": {},
   "outputs": [],
   "source": [
    "# create a Spark session\n",
    "spark = SparkSession.builder \\\n",
    "    .appName(\"Sparkify\") \\\n",
    "    .getOrCreate()"
   ]
  },
  {
   "cell_type": "markdown",
   "metadata": {},
   "source": [
    "# Load and Clean Dataset\n",
    "In this workspace, the mini-dataset file is `mini_sparkify_event_data.json`. Load and clean the dataset, checking for invalid or missing data - for example, records without userids or sessionids. "
   ]
  },
  {
   "cell_type": "code",
   "execution_count": 3,
   "metadata": {},
   "outputs": [
    {
     "data": {
      "text/plain": [
       "[Row(artist='Martha Tilston', auth='Logged In', firstName='Colin', gender='M', itemInSession=50, lastName='Freeman', length=277.89016, level='paid', location='Bakersfield, CA', method='PUT', page='NextSong', registration=1538173362000, sessionId=29, song='Rockpools', status=200, ts=1538352117000, userAgent='Mozilla/5.0 (Windows NT 6.1; WOW64; rv:31.0) Gecko/20100101 Firefox/31.0', userId='30')]"
      ]
     },
     "execution_count": 3,
     "metadata": {},
     "output_type": "execute_result"
    }
   ],
   "source": [
    "#Loading mini json data\n",
    "df = spark.read.json('mini_sparkify_event_data.json')\n",
    "df.take(1)"
   ]
  },
  {
   "cell_type": "markdown",
   "metadata": {},
   "source": [
    "#### Dataset size"
   ]
  },
  {
   "cell_type": "code",
   "execution_count": 4,
   "metadata": {},
   "outputs": [
    {
     "name": "stdout",
     "output_type": "stream",
     "text": [
      "rows:  286500\n",
      "columns:  18\n"
     ]
    }
   ],
   "source": [
    "# Printing rows and columns \n",
    "print ('rows: ', df.count())\n",
    "print ('columns: ' , len(df.columns))"
   ]
  },
  {
   "cell_type": "code",
   "execution_count": 5,
   "metadata": {},
   "outputs": [
    {
     "name": "stdout",
     "output_type": "stream",
     "text": [
      "+--------------------+---------+---------+------+-------------+--------+---------+-----+--------------------+------+---------------+-------------+---------+--------------------+------+-------------+--------------------+------+\n",
      "|              artist|     auth|firstName|gender|itemInSession|lastName|   length|level|            location|method|           page| registration|sessionId|                song|status|           ts|           userAgent|userId|\n",
      "+--------------------+---------+---------+------+-------------+--------+---------+-----+--------------------+------+---------------+-------------+---------+--------------------+------+-------------+--------------------+------+\n",
      "|      Martha Tilston|Logged In|    Colin|     M|           50| Freeman|277.89016| paid|     Bakersfield, CA|   PUT|       NextSong|1538173362000|       29|           Rockpools|   200|1538352117000|Mozilla/5.0 (Wind...|    30|\n",
      "|    Five Iron Frenzy|Logged In|    Micah|     M|           79|    Long|236.09424| free|Boston-Cambridge-...|   PUT|       NextSong|1538331630000|        8|              Canada|   200|1538352180000|\"Mozilla/5.0 (Win...|     9|\n",
      "|        Adam Lambert|Logged In|    Colin|     M|           51| Freeman| 282.8273| paid|     Bakersfield, CA|   PUT|       NextSong|1538173362000|       29|   Time For Miracles|   200|1538352394000|Mozilla/5.0 (Wind...|    30|\n",
      "|              Enigma|Logged In|    Micah|     M|           80|    Long|262.71302| free|Boston-Cambridge-...|   PUT|       NextSong|1538331630000|        8|Knocking On Forbi...|   200|1538352416000|\"Mozilla/5.0 (Win...|     9|\n",
      "|           Daft Punk|Logged In|    Colin|     M|           52| Freeman|223.60771| paid|     Bakersfield, CA|   PUT|       NextSong|1538173362000|       29|Harder Better Fas...|   200|1538352676000|Mozilla/5.0 (Wind...|    30|\n",
      "|The All-American ...|Logged In|    Micah|     M|           81|    Long|208.29995| free|Boston-Cambridge-...|   PUT|       NextSong|1538331630000|        8|      Don't Leave Me|   200|1538352678000|\"Mozilla/5.0 (Win...|     9|\n",
      "|The Velvet Underg...|Logged In|    Micah|     M|           82|    Long|260.46649| free|Boston-Cambridge-...|   PUT|       NextSong|1538331630000|        8|         Run Run Run|   200|1538352886000|\"Mozilla/5.0 (Win...|     9|\n",
      "|        Starflyer 59|Logged In|    Colin|     M|           53| Freeman|185.44281| paid|     Bakersfield, CA|   PUT|       NextSong|1538173362000|       29|Passengers (Old A...|   200|1538352899000|Mozilla/5.0 (Wind...|    30|\n",
      "|                null|Logged In|    Colin|     M|           54| Freeman|     null| paid|     Bakersfield, CA|   PUT|Add to Playlist|1538173362000|       29|                null|   200|1538352905000|Mozilla/5.0 (Wind...|    30|\n",
      "|            Frumpies|Logged In|    Colin|     M|           55| Freeman|134.47791| paid|     Bakersfield, CA|   PUT|       NextSong|1538173362000|       29|          Fuck Kitty|   200|1538353084000|Mozilla/5.0 (Wind...|    30|\n",
      "|        Britt Nicole|Logged In|    Micah|     M|           83|    Long| 229.8771| free|Boston-Cambridge-...|   PUT|       NextSong|1538331630000|        8|   Walk On The Water|   200|1538353146000|\"Mozilla/5.0 (Win...|     9|\n",
      "|                null|Logged In|    Micah|     M|           84|    Long|     null| free|Boston-Cambridge-...|   GET|    Roll Advert|1538331630000|        8|                null|   200|1538353150000|\"Mozilla/5.0 (Win...|     9|\n",
      "|Edward Sharpe & T...|Logged In|    Colin|     M|           56| Freeman|223.58159| paid|     Bakersfield, CA|   PUT|       NextSong|1538173362000|       29|                Jade|   200|1538353218000|Mozilla/5.0 (Wind...|    30|\n",
      "|               Tesla|Logged In|    Micah|     M|           85|    Long|201.06404| free|Boston-Cambridge-...|   PUT|       NextSong|1538331630000|        8|      Gettin' Better|   200|1538353375000|\"Mozilla/5.0 (Win...|     9|\n",
      "|                null|Logged In|    Micah|     M|           86|    Long|     null| free|Boston-Cambridge-...|   PUT|      Thumbs Up|1538331630000|        8|                null|   307|1538353376000|\"Mozilla/5.0 (Win...|     9|\n",
      "|         Stan Mosley|Logged In|    Colin|     M|           57| Freeman|246.69995| paid|     Bakersfield, CA|   PUT|       NextSong|1538173362000|       29|   So-Called Friends|   200|1538353441000|Mozilla/5.0 (Wind...|    30|\n",
      "|Florence + The Ma...|Logged In|    Micah|     M|           87|    Long|168.64608| free|Boston-Cambridge-...|   PUT|       NextSong|1538331630000|        8| You've Got The Love|   200|1538353576000|\"Mozilla/5.0 (Win...|     9|\n",
      "|   Tokyo Police Club|Logged In|  Ashlynn|     F|            0|Williams| 166.1122| free|     Tallahassee, FL|   PUT|       NextSong|1537365219000|      217|Citizens Of Tomorrow|   200|1538353668000|\"Mozilla/5.0 (Mac...|    74|\n",
      "|             Orishas|Logged In|    Colin|     M|           58| Freeman|222.22322| paid|     Bakersfield, CA|   PUT|       NextSong|1538173362000|       29|           Represent|   200|1538353687000|Mozilla/5.0 (Wind...|    30|\n",
      "|             Ratatat|Logged In|    Micah|     M|           88|    Long|229.77261| free|Boston-Cambridge-...|   PUT|       NextSong|1538331630000|        8|              Swisha|   200|1538353744000|\"Mozilla/5.0 (Win...|     9|\n",
      "+--------------------+---------+---------+------+-------------+--------+---------+-----+--------------------+------+---------------+-------------+---------+--------------------+------+-------------+--------------------+------+\n",
      "only showing top 20 rows\n",
      "\n"
     ]
    }
   ],
   "source": [
    "#showing first 20 rows\n",
    "df.show()"
   ]
  },
  {
   "cell_type": "code",
   "execution_count": 6,
   "metadata": {},
   "outputs": [
    {
     "name": "stdout",
     "output_type": "stream",
     "text": [
      "root\n",
      " |-- artist: string (nullable = true)\n",
      " |-- auth: string (nullable = true)\n",
      " |-- firstName: string (nullable = true)\n",
      " |-- gender: string (nullable = true)\n",
      " |-- itemInSession: long (nullable = true)\n",
      " |-- lastName: string (nullable = true)\n",
      " |-- length: double (nullable = true)\n",
      " |-- level: string (nullable = true)\n",
      " |-- location: string (nullable = true)\n",
      " |-- method: string (nullable = true)\n",
      " |-- page: string (nullable = true)\n",
      " |-- registration: long (nullable = true)\n",
      " |-- sessionId: long (nullable = true)\n",
      " |-- song: string (nullable = true)\n",
      " |-- status: long (nullable = true)\n",
      " |-- ts: long (nullable = true)\n",
      " |-- userAgent: string (nullable = true)\n",
      " |-- userId: string (nullable = true)\n",
      "\n"
     ]
    }
   ],
   "source": [
    "#Checking the dataset schema\n",
    "df.printSchema()"
   ]
  },
  {
   "cell_type": "code",
   "execution_count": 7,
   "metadata": {},
   "outputs": [
    {
     "name": "stdout",
     "output_type": "stream",
     "text": [
      "+-------+------------------+----------+---------+------+------------------+--------+-----------------+------+-----------------+------+-------+--------------------+-----------------+--------------------+------------------+--------------------+--------------------+-----------------+\n",
      "|summary|            artist|      auth|firstName|gender|     itemInSession|lastName|           length| level|         location|method|   page|        registration|        sessionId|                song|            status|                  ts|           userAgent|           userId|\n",
      "+-------+------------------+----------+---------+------+------------------+--------+-----------------+------+-----------------+------+-------+--------------------+-----------------+--------------------+------------------+--------------------+--------------------+-----------------+\n",
      "|  count|            228108|    286500|   278154|278154|            286500|  278154|           228108|286500|           278154|286500| 286500|              278154|           286500|              228108|            286500|              286500|              278154|           286500|\n",
      "|   mean| 551.0852017937219|      null|     null|  null|114.41421291448516|    null|249.1171819778458|  null|             null|  null|   null|1.535358834084427...|1041.526554973822|            Infinity|210.05459685863875|1.540956889810483...|                null|59682.02278593872|\n",
      "| stddev|1217.7693079161374|      null|     null|  null|129.76726201140994|    null|99.23517921058361|  null|             null|  null|   null| 3.291321616327586E9|726.7762634630741|                 NaN| 31.50507848842214|1.5075439608226302E9|                null|109091.9499991047|\n",
      "|    min|               !!!| Cancelled| Adelaida|     F|                 0|   Adams|          0.78322|  free|       Albany, OR|   GET|  About|       1521380675000|                1|\u001c",
      "ÃÂg ÃÂtti Gr...|               200|       1538352117000|\"Mozilla/5.0 (Mac...|                 |\n",
      "|    max| ÃÂlafur Arnalds|Logged Out|   Zyonna|     M|              1321|  Wright|       3024.66567|  paid|Winston-Salem, NC|   PUT|Upgrade|       1543247354000|             2474|ÃÂau hafa slopp...|               404|       1543799476000|Mozilla/5.0 (comp...|               99|\n",
      "+-------+------------------+----------+---------+------+------------------+--------+-----------------+------+-----------------+------+-------+--------------------+-----------------+--------------------+------------------+--------------------+--------------------+-----------------+\n",
      "\n"
     ]
    }
   ],
   "source": [
    "# Describing the dataset features like mean, median, standard deviation\n",
    "df.describe().show()"
   ]
  },
  {
   "cell_type": "code",
   "execution_count": 8,
   "metadata": {},
   "outputs": [
    {
     "data": {
      "text/plain": [
       "286500"
      ]
     },
     "execution_count": 8,
     "metadata": {},
     "output_type": "execute_result"
    }
   ],
   "source": [
    "# checking the rows in the dataset\n",
    "df.count()"
   ]
  },
  {
   "cell_type": "code",
   "execution_count": 9,
   "metadata": {},
   "outputs": [
    {
     "name": "stdout",
     "output_type": "stream",
     "text": [
      "+-------+-----------------+\n",
      "|summary|           userId|\n",
      "+-------+-----------------+\n",
      "|  count|           286500|\n",
      "|   mean|59682.02278593872|\n",
      "| stddev|109091.9499991047|\n",
      "|    min|                 |\n",
      "|    max|               99|\n",
      "+-------+-----------------+\n",
      "\n"
     ]
    }
   ],
   "source": [
    "# checking the summary of userId column of the dataset\n",
    "df.describe('userId').show()"
   ]
  },
  {
   "cell_type": "code",
   "execution_count": 10,
   "metadata": {},
   "outputs": [
    {
     "name": "stdout",
     "output_type": "stream",
     "text": [
      "+-------+-----------------+\n",
      "|summary|        sessionId|\n",
      "+-------+-----------------+\n",
      "|  count|           286500|\n",
      "|   mean|1041.526554973822|\n",
      "| stddev|726.7762634630741|\n",
      "|    min|                1|\n",
      "|    max|             2474|\n",
      "+-------+-----------------+\n",
      "\n"
     ]
    }
   ],
   "source": [
    "# checking the summary of session ID column of the dataset\n",
    "\n",
    "df.describe('sessionId').show()"
   ]
  },
  {
   "cell_type": "markdown",
   "metadata": {},
   "source": [
    "### Filtering and cleaning the dataset"
   ]
  },
  {
   "cell_type": "code",
   "execution_count": 11,
   "metadata": {},
   "outputs": [
    {
     "data": {
      "text/plain": [
       "0"
      ]
     },
     "execution_count": 11,
     "metadata": {},
     "output_type": "execute_result"
    }
   ],
   "source": [
    "#checking null values\n",
    "df.filter('userId is null').count()"
   ]
  },
  {
   "cell_type": "code",
   "execution_count": 12,
   "metadata": {},
   "outputs": [
    {
     "data": {
      "text/plain": [
       "0"
      ]
     },
     "execution_count": 12,
     "metadata": {},
     "output_type": "execute_result"
    }
   ],
   "source": [
    "# checking null values if any\n",
    "df.filter('sessionId is null').count()"
   ]
  },
  {
   "cell_type": "code",
   "execution_count": 13,
   "metadata": {},
   "outputs": [
    {
     "data": {
      "text/plain": [
       "8346"
      ]
     },
     "execution_count": 13,
     "metadata": {},
     "output_type": "execute_result"
    }
   ],
   "source": [
    "# checking empty values in userId\n",
    "df.filter(df['userId'] == '').count()"
   ]
  },
  {
   "cell_type": "code",
   "execution_count": 14,
   "metadata": {},
   "outputs": [
    {
     "data": {
      "text/plain": [
       "0"
      ]
     },
     "execution_count": 14,
     "metadata": {},
     "output_type": "execute_result"
    }
   ],
   "source": [
    "# checking empty values in sessionId\n",
    "\n",
    "df.filter(df['sessionId'] == '').count()"
   ]
  },
  {
   "cell_type": "code",
   "execution_count": 15,
   "metadata": {},
   "outputs": [],
   "source": [
    "# saving the clean dataset without empty values of userId\n",
    "sparkify_clean = df.filter(df['userId'] != '')"
   ]
  },
  {
   "cell_type": "code",
   "execution_count": 16,
   "metadata": {},
   "outputs": [
    {
     "data": {
      "text/plain": [
       "278154"
      ]
     },
     "execution_count": 16,
     "metadata": {},
     "output_type": "execute_result"
    }
   ],
   "source": [
    "# checking number of rows after some cleaning\n",
    "sparkify_clean.count()"
   ]
  },
  {
   "cell_type": "code",
   "execution_count": 17,
   "metadata": {},
   "outputs": [
    {
     "name": "stdout",
     "output_type": "stream",
     "text": [
      "root\n",
      " |-- artist: string (nullable = true)\n",
      " |-- auth: string (nullable = true)\n",
      " |-- firstName: string (nullable = true)\n",
      " |-- gender: string (nullable = true)\n",
      " |-- itemInSession: long (nullable = true)\n",
      " |-- lastName: string (nullable = true)\n",
      " |-- length: double (nullable = true)\n",
      " |-- level: string (nullable = true)\n",
      " |-- location: string (nullable = true)\n",
      " |-- method: string (nullable = true)\n",
      " |-- page: string (nullable = true)\n",
      " |-- registration: long (nullable = true)\n",
      " |-- sessionId: long (nullable = true)\n",
      " |-- song: string (nullable = true)\n",
      " |-- status: long (nullable = true)\n",
      " |-- ts: long (nullable = true)\n",
      " |-- userAgent: string (nullable = true)\n",
      " |-- userId: string (nullable = true)\n",
      "\n"
     ]
    }
   ],
   "source": [
    "# checking the data types\n",
    "sparkify_clean.printSchema()"
   ]
  },
  {
   "cell_type": "code",
   "execution_count": 18,
   "metadata": {},
   "outputs": [
    {
     "name": "stdout",
     "output_type": "stream",
     "text": [
      "+-------+------------------+\n",
      "|summary|            artist|\n",
      "+-------+------------------+\n",
      "|  count|            228108|\n",
      "|   mean| 551.0852017937219|\n",
      "| stddev|1217.7693079161374|\n",
      "|    min|               !!!|\n",
      "|    max| ÃÂlafur Arnalds|\n",
      "+-------+------------------+\n",
      "\n"
     ]
    }
   ],
   "source": [
    "# checking the summary of artist on clean dataset\n",
    "sparkify_clean.describe('artist').show()"
   ]
  },
  {
   "cell_type": "code",
   "execution_count": 19,
   "metadata": {},
   "outputs": [
    {
     "name": "stdout",
     "output_type": "stream",
     "text": [
      "+-------+---------+\n",
      "|summary|     auth|\n",
      "+-------+---------+\n",
      "|  count|   278154|\n",
      "|   mean|     null|\n",
      "| stddev|     null|\n",
      "|    min|Cancelled|\n",
      "|    max|Logged In|\n",
      "+-------+---------+\n",
      "\n"
     ]
    }
   ],
   "source": [
    "# checking the summary of auth column\n",
    "sparkify_clean.describe('auth').show()"
   ]
  },
  {
   "cell_type": "code",
   "execution_count": 20,
   "metadata": {},
   "outputs": [
    {
     "name": "stdout",
     "output_type": "stream",
     "text": [
      "+-------+------+\n",
      "|summary|gender|\n",
      "+-------+------+\n",
      "|  count|278154|\n",
      "|   mean|  null|\n",
      "| stddev|  null|\n",
      "|    min|     F|\n",
      "|    max|     M|\n",
      "+-------+------+\n",
      "\n"
     ]
    }
   ],
   "source": [
    "# checking the gender column summary\n",
    "sparkify_clean.describe('gender').show()"
   ]
  },
  {
   "cell_type": "markdown",
   "metadata": {},
   "source": [
    "### Converting the timestamp to datetime"
   ]
  },
  {
   "cell_type": "code",
   "execution_count": 21,
   "metadata": {},
   "outputs": [],
   "source": [
    "#user defined function to convert timestamp to datetime\n",
    "get_time = udf(lambda x: datetime.datetime.fromtimestamp(x / 1000.0).strftime(\"%Y-%m-%d %H:%M:%S\"))\n",
    "\n",
    "sparkify_clean = sparkify_clean.withColumn(\"time\", get_time(sparkify_clean.ts))"
   ]
  },
  {
   "cell_type": "code",
   "execution_count": 22,
   "metadata": {},
   "outputs": [
    {
     "data": {
      "text/plain": [
       "[Row(artist='Martha Tilston', auth='Logged In', firstName='Colin', gender='M', itemInSession=50, lastName='Freeman', length=277.89016, level='paid', location='Bakersfield, CA', method='PUT', page='NextSong', registration=1538173362000, sessionId=29, song='Rockpools', status=200, ts=1538352117000, userAgent='Mozilla/5.0 (Windows NT 6.1; WOW64; rv:31.0) Gecko/20100101 Firefox/31.0', userId='30', time='2018-10-01 00:01:57')]"
      ]
     },
     "execution_count": 22,
     "metadata": {},
     "output_type": "execute_result"
    }
   ],
   "source": [
    "#first row checking to confirm the conversion on the dataset\n",
    "sparkify_clean.take(1)"
   ]
  },
  {
   "cell_type": "markdown",
   "metadata": {},
   "source": [
    "# Exploratory Data Analysis\n",
    "When you're working with the full dataset, perform EDA by loading a small subset of the data and doing basic manipulations within Spark. In this workspace, you are already provided a small subset of data you can explore.\n",
    "\n",
    "### Define Churn\n",
    "\n",
    "Once you've done some preliminary analysis, create a column `Churn` to use as the label for your model. I suggest using the `Cancellation Confirmation` events to define your churn, which happen for both paid and free users. As a bonus task, you can also look into the `Downgrade` events.\n",
    "\n",
    "### Explore Data\n",
    "Once you've defined churn, perform some exploratory data analysis to observe the behavior for users who stayed vs users who churned. You can start by exploring aggregates on these two groups of users, observing how much of a specific action they experienced per a certain time unit or number of songs played."
   ]
  },
  {
   "cell_type": "code",
   "execution_count": 23,
   "metadata": {},
   "outputs": [],
   "source": [
    "# Creating a temporary view table for exploration\n",
    "sparkify_clean.createOrReplaceTempView(\"sparkify_cleaned\")"
   ]
  },
  {
   "cell_type": "code",
   "execution_count": 24,
   "metadata": {},
   "outputs": [
    {
     "name": "stdout",
     "output_type": "stream",
     "text": [
      "+------+-----------+\n",
      "|gender|user_counts|\n",
      "+------+-----------+\n",
      "|     M|        121|\n",
      "|     F|        104|\n",
      "+------+-----------+\n",
      "\n"
     ]
    }
   ],
   "source": [
    "# checking gender distribution\n",
    "gender = spark.sql('''\n",
    "        SELECT gender,COUNT(DISTINCT userId) AS user_counts\n",
    "        FROM Sparkify_cleaned\n",
    "        GROUP BY gender\n",
    "        ORDER BY user_counts DESC\n",
    "''')\n",
    "gender.show()"
   ]
  },
  {
   "cell_type": "markdown",
   "metadata": {},
   "source": [
    "There are \n",
    "\n",
    "<ul><li>121 <b>male</b> and </li></ul>\n",
    "\n",
    "<ul><li>104 <b>female</b> users are in the data.</li></ul>"
   ]
  },
  {
   "cell_type": "code",
   "execution_count": 25,
   "metadata": {},
   "outputs": [
    {
     "name": "stdout",
     "output_type": "stream",
     "text": [
      "+---------+\n",
      "|     auth|\n",
      "+---------+\n",
      "|Cancelled|\n",
      "|Logged In|\n",
      "+---------+\n",
      "\n"
     ]
    }
   ],
   "source": [
    "# checking number of unique rows in auth column\n",
    "spark.sql('''\n",
    "        SELECT DISTINCT(auth)\n",
    "        FROM sparkify_cleaned\n",
    "''').show()"
   ]
  },
  {
   "cell_type": "code",
   "execution_count": 26,
   "metadata": {},
   "outputs": [
    {
     "name": "stdout",
     "output_type": "stream",
     "text": [
      "+---------+-----------+\n",
      "|     auth|user_counts|\n",
      "+---------+-----------+\n",
      "|Logged In|        225|\n",
      "|Cancelled|         52|\n",
      "+---------+-----------+\n",
      "\n"
     ]
    }
   ],
   "source": [
    "# checking the number of users who logged in on the app and cancelled the services\n",
    "spark.sql('''\n",
    "        SELECT auth,COUNT(DISTINCT userId) AS user_counts\n",
    "        FROM sparkify_cleaned\n",
    "        GROUP BY auth\n",
    "        ORDER BY user_counts DESC\n",
    "''').show()"
   ]
  },
  {
   "cell_type": "code",
   "execution_count": 27,
   "metadata": {},
   "outputs": [
    {
     "name": "stdout",
     "output_type": "stream",
     "text": [
      "+-----+-----------+\n",
      "|level|user_counts|\n",
      "+-----+-----------+\n",
      "| free|        195|\n",
      "| paid|        165|\n",
      "+-----+-----------+\n",
      "\n"
     ]
    }
   ],
   "source": [
    "# checking paid and free number of users\n",
    "spark.sql('''\n",
    "        SELECT level,COUNT(DISTINCT userId) AS user_counts\n",
    "        FROM sparkify_cleaned\n",
    "        GROUP BY level\n",
    "        ORDER BY user_counts DESC\n",
    "''').show()"
   ]
  },
  {
   "cell_type": "code",
   "execution_count": 28,
   "metadata": {},
   "outputs": [
    {
     "name": "stdout",
     "output_type": "stream",
     "text": [
      "+--------------------+-----------+\n",
      "|                page|user_counts|\n",
      "+--------------------+-----------+\n",
      "|            NextSong|     228108|\n",
      "|           Thumbs Up|      12551|\n",
      "|                Home|      10082|\n",
      "|     Add to Playlist|       6526|\n",
      "|          Add Friend|       4277|\n",
      "|         Roll Advert|       3933|\n",
      "|              Logout|       3226|\n",
      "|         Thumbs Down|       2546|\n",
      "|           Downgrade|       2055|\n",
      "|            Settings|       1514|\n",
      "|                Help|       1454|\n",
      "|             Upgrade|        499|\n",
      "|               About|        495|\n",
      "|       Save Settings|        310|\n",
      "|               Error|        252|\n",
      "|      Submit Upgrade|        159|\n",
      "|    Submit Downgrade|         63|\n",
      "|              Cancel|         52|\n",
      "|Cancellation Conf...|         52|\n",
      "+--------------------+-----------+\n",
      "\n"
     ]
    }
   ],
   "source": [
    "# checking the pages users visited mostly\n",
    "spark.sql('''\n",
    "        SELECT page,COUNT(userId) AS user_counts\n",
    "        FROM sparkify_cleaned\n",
    "        GROUP BY page\n",
    "        ORDER BY user_counts DESC\n",
    "''').show()"
   ]
  },
  {
   "cell_type": "code",
   "execution_count": 29,
   "metadata": {},
   "outputs": [],
   "source": [
    "# Churn user defined function where 1 means churned and 0 means not churned\n",
    "churn = udf(lambda x: 1 if x == 'Cancellation Confirmation' else 0, IntegerType())\n",
    "\n",
    "sparkify_clean_churn = sparkify_clean.withColumn('churn', churn('page'))\n",
    "\n",
    "window = Window.partitionBy('userId').rangeBetween(Window.unboundedPreceding, Window.unboundedFollowing)\n",
    "sparkify_clean_churn = sparkify_clean_churn.withColumn('churned', sum('churn').over(window))"
   ]
  },
  {
   "cell_type": "code",
   "execution_count": 30,
   "metadata": {},
   "outputs": [],
   "source": [
    "# Creating a temp view table for further analysis of data using churn column\n",
    "sparkify_clean_churn.createOrReplaceTempView(\"sparkify_cleaned\")"
   ]
  },
  {
   "cell_type": "code",
   "execution_count": 31,
   "metadata": {},
   "outputs": [
    {
     "name": "stdout",
     "output_type": "stream",
     "text": [
      "+-------+-----+\n",
      "|churned|Count|\n",
      "+-------+-----+\n",
      "|      0|  173|\n",
      "|      1|   52|\n",
      "+-------+-----+\n",
      "\n"
     ]
    }
   ],
   "source": [
    "#checking number of churned users in dataset\n",
    "spark.sql(\n",
    "            '''\n",
    "            SELECT \n",
    "            churned,\n",
    "            COUNT(DISTINCT userId) as Count\n",
    "            FROM\n",
    "            sparkify_cleaned\n",
    "            GROUP BY churned\n",
    "            '''\n",
    "          ).show()"
   ]
  },
  {
   "cell_type": "markdown",
   "metadata": {},
   "source": [
    "52 users downgraded or cancel their subscriptions while 173 users are still on the platfrom without downgrading their services"
   ]
  },
  {
   "cell_type": "code",
   "execution_count": 32,
   "metadata": {},
   "outputs": [
    {
     "data": {
      "text/plain": [
       "[Row(artist='Sleeping With Sirens', auth='Logged In', firstName='Darianna', gender='F', itemInSession=0, lastName='Carpenter', length=202.97098, level='free', location='Bridgeport-Stamford-Norwalk, CT', method='PUT', page='NextSong', registration=1538016340000, sessionId=31, song='Captain Tyin Knots VS Mr Walkway (No Way)', status=200, ts=1539003534000, userAgent='\"Mozilla/5.0 (iPhone; CPU iPhone OS 7_1_2 like Mac OS X) AppleWebKit/537.51.2 (KHTML, like Gecko) Version/7.0 Mobile/11D257 Safari/9537.53\"', userId='100010', time='2018-10-08 12:58:54', churn=0, churned=0)]"
      ]
     },
     "execution_count": 32,
     "metadata": {},
     "output_type": "execute_result"
    }
   ],
   "source": [
    "# checking the first row\n",
    "sparkify_clean_churn.take(1)"
   ]
  },
  {
   "cell_type": "code",
   "execution_count": 33,
   "metadata": {},
   "outputs": [
    {
     "name": "stdout",
     "output_type": "stream",
     "text": [
      "+-------+------+-------+\n",
      "|churned|gender|genders|\n",
      "+-------+------+-------+\n",
      "|      1|     F|     20|\n",
      "|      1|     M|     32|\n",
      "|      0|     F|     84|\n",
      "|      0|     M|     89|\n",
      "+-------+------+-------+\n",
      "\n"
     ]
    }
   ],
   "source": [
    "# number of genders who churned from the app\n",
    "gender_churn = spark.sql(\n",
    "            '''\n",
    "            SELECT \n",
    "            churned,gender,COUNT(DISTINCT userId) as genders\n",
    "            FROM\n",
    "            sparkify_cleaned\n",
    "            GROUP BY churned, gender\n",
    "            ORDER BY genders\n",
    "            '''\n",
    "          )\n",
    "gender_churn.show()"
   ]
  },
  {
   "cell_type": "markdown",
   "metadata": {},
   "source": [
    "According to above data more male members churned from the platform as compared to female members while the number of male members are higher as compared to females"
   ]
  },
  {
   "cell_type": "code",
   "execution_count": 34,
   "metadata": {
    "scrolled": false
   },
   "outputs": [
    {
     "data": {
      "text/plain": [
       "<matplotlib.axes._subplots.AxesSubplot at 0x7fefffebceb8>"
      ]
     },
     "execution_count": 34,
     "metadata": {},
     "output_type": "execute_result"
    },
    {
     "data": {
      "image/png": "[encoded data removed]",
      "text/plain": [
       "<matplotlib.figure.Figure at 0x7fefffebc4a8>"
      ]
     },
     "metadata": {
      "needs_background": "light"
     },
     "output_type": "display_data"
    }
   ],
   "source": [
    "# creating bar plot of gender specific churned users\n",
    "plt.figure(figsize=(15,10))\n",
    "sns.barplot(x=\"gender\", y=\"genders\", hue=\"churned\", data=gender_churn.toPandas())"
   ]
  },
  {
   "cell_type": "code",
   "execution_count": 35,
   "metadata": {},
   "outputs": [
    {
     "name": "stdout",
     "output_type": "stream",
     "text": [
      "+-------+-----+-----------+\n",
      "|churned|level|level_count|\n",
      "+-------+-----+-----------+\n",
      "|      1| paid|         36|\n",
      "|      1| free|         46|\n",
      "|      0| paid|        129|\n",
      "|      0| free|        149|\n",
      "+-------+-----+-----------+\n",
      "\n"
     ]
    }
   ],
   "source": [
    "# checking the users who downgraded their services from paid to free or churnded from the app\n",
    "level_churn = spark.sql(\n",
    "            '''\n",
    "            SELECT \n",
    "            churned,level,COUNT(DISTINCT userId) as level_count\n",
    "            FROM\n",
    "            sparkify_cleaned\n",
    "            GROUP BY churned, level\n",
    "            ORDER BY level_count\n",
    "            '''\n",
    "          )\n",
    "level_churn.show()"
   ]
  },
  {
   "cell_type": "markdown",
   "metadata": {},
   "source": [
    "36 users churned from the paid services while most of the users are using the free services of the platform"
   ]
  },
  {
   "cell_type": "code",
   "execution_count": 36,
   "metadata": {},
   "outputs": [
    {
     "data": {
      "image/png": "[encoded data removed]",
      "text/plain": [
       "<matplotlib.figure.Figure at 0x7fefffe49ac8>"
      ]
     },
     "metadata": {
      "needs_background": "light"
     },
     "output_type": "display_data"
    }
   ],
   "source": [
    "# creating a bar plot according to level of service churned\n",
    "plt.figure(figsize=(15,10));\n",
    "sns.barplot(x=\"level\", y=\"level_count\", hue=\"churned\", data=level_churn.toPandas());"
   ]
  },
  {
   "cell_type": "code",
   "execution_count": 37,
   "metadata": {},
   "outputs": [
    {
     "name": "stdout",
     "output_type": "stream",
     "text": [
      "+-------+--------------------+----------+\n",
      "|churned|            location|user_count|\n",
      "+-------+--------------------+----------+\n",
      "|      0|Los Angeles-Long ...|        13|\n",
      "|      0|New York-Newark-J...|        10|\n",
      "|      0|Charlotte-Concord...|         6|\n",
      "|      0|Dallas-Fort Worth...|         6|\n",
      "|      0|    St. Louis, MO-IL|         5|\n",
      "|      0|Chicago-Napervill...|         5|\n",
      "|      0|Boston-Cambridge-...|         5|\n",
      "|      1|New York-Newark-J...|         5|\n",
      "|      0|Phoenix-Mesa-Scot...|         5|\n",
      "|      0|Atlanta-Sandy Spr...|         4|\n",
      "+-------+--------------------+----------+\n",
      "\n"
     ]
    }
   ],
   "source": [
    "# checking the location based users who churned or not\n",
    "location_churn = spark.sql(\n",
    "            '''\n",
    "            SELECT \n",
    "            churned,location,COUNT(DISTINCT userId) as user_count\n",
    "            FROM\n",
    "            sparkify_cleaned\n",
    "            GROUP BY churned, location\n",
    "            ORDER BY user_count DESC\n",
    "            LIMIT 10 \n",
    "            '''\n",
    "          )\n",
    "location_churn.show()"
   ]
  },
  {
   "cell_type": "code",
   "execution_count": 38,
   "metadata": {},
   "outputs": [
    {
     "data": {
      "image/png": "[encoded data removed]",
      "text/plain": [
       "<matplotlib.figure.Figure at 0x7feffde0dfd0>"
      ]
     },
     "metadata": {
      "needs_background": "light"
     },
     "output_type": "display_data"
    }
   ],
   "source": [
    "# bar plot for location based churned\n",
    "plt.figure(figsize=(15,15));\n",
    "sns.barplot(x=\"location\", y=\"user_count\", hue=\"churned\", data=location_churn.toPandas());\n",
    "plt.xticks(rotation=30, horizontalalignment= 'right');"
   ]
  },
  {
   "cell_type": "code",
   "execution_count": 39,
   "metadata": {},
   "outputs": [
    {
     "name": "stdout",
     "output_type": "stream",
     "text": [
      "+-------+--------------------+----------+\n",
      "|churned|                page|user_count|\n",
      "+-------+--------------------+----------+\n",
      "|      0|            NextSong|       173|\n",
      "|      0|                Home|       172|\n",
      "|      0|           Thumbs Up|       170|\n",
      "|      0|              Logout|       167|\n",
      "|      0|     Add to Playlist|       165|\n",
      "|      0|          Add Friend|       162|\n",
      "|      0|         Roll Advert|       157|\n",
      "|      0|         Thumbs Down|       155|\n",
      "|      0|            Settings|       152|\n",
      "|      0|                Help|       149|\n",
      "|      0|             Upgrade|       131|\n",
      "|      0|               About|       124|\n",
      "|      0|           Downgrade|       119|\n",
      "|      0|      Submit Upgrade|       102|\n",
      "|      0|       Save Settings|       102|\n",
      "|      0|               Error|        95|\n",
      "|      1|              Cancel|        52|\n",
      "|      1|            NextSong|        52|\n",
      "|      1|Cancellation Conf...|        52|\n",
      "|      1|                Home|        51|\n",
      "+-------+--------------------+----------+\n",
      "only showing top 20 rows\n",
      "\n"
     ]
    }
   ],
   "source": [
    "# page level churn checking\n",
    "page_churn = spark.sql(\n",
    "            '''\n",
    "            SELECT \n",
    "            churned,page,COUNT(DISTINCT userId) as user_count\n",
    "            FROM\n",
    "            sparkify_cleaned\n",
    "            GROUP BY churned, page\n",
    "            ORDER BY user_count DESC \n",
    "            '''\n",
    "          )\n",
    "page_churn.show()"
   ]
  },
  {
   "cell_type": "code",
   "execution_count": 40,
   "metadata": {},
   "outputs": [
    {
     "data": {
      "image/png": "[encoded data removed]",
      "text/plain": [
       "<matplotlib.figure.Figure at 0x7feffdce90f0>"
      ]
     },
     "metadata": {
      "needs_background": "light"
     },
     "output_type": "display_data"
    }
   ],
   "source": [
    "# plotting the page level churned users\n",
    "plt.figure(figsize=(15,15));\n",
    "sns.barplot(x=\"page\", y=\"user_count\", hue=\"churned\", data=page_churn.toPandas());\n",
    "plt.xticks(rotation=30, horizontalalignment= 'right');"
   ]
  },
  {
   "cell_type": "markdown",
   "metadata": {},
   "source": [
    "52 users churned from the platform from the NextSong/Cancellation Confirmation page."
   ]
  },
  {
   "cell_type": "code",
   "execution_count": 41,
   "metadata": {},
   "outputs": [
    {
     "name": "stdout",
     "output_type": "stream",
     "text": [
      "root\n",
      " |-- artist: string (nullable = true)\n",
      " |-- auth: string (nullable = true)\n",
      " |-- firstName: string (nullable = true)\n",
      " |-- gender: string (nullable = true)\n",
      " |-- itemInSession: long (nullable = true)\n",
      " |-- lastName: string (nullable = true)\n",
      " |-- length: double (nullable = true)\n",
      " |-- level: string (nullable = true)\n",
      " |-- location: string (nullable = true)\n",
      " |-- method: string (nullable = true)\n",
      " |-- page: string (nullable = true)\n",
      " |-- registration: long (nullable = true)\n",
      " |-- sessionId: long (nullable = true)\n",
      " |-- song: string (nullable = true)\n",
      " |-- status: long (nullable = true)\n",
      " |-- ts: long (nullable = true)\n",
      " |-- userAgent: string (nullable = true)\n",
      " |-- userId: string (nullable = true)\n",
      " |-- time: string (nullable = true)\n",
      " |-- churn: integer (nullable = true)\n",
      " |-- churned: long (nullable = true)\n",
      "\n"
     ]
    }
   ],
   "source": [
    "# checking the data schema for data types checking\n",
    "sparkify_clean_churn.printSchema()"
   ]
  },
  {
   "cell_type": "code",
   "execution_count": 42,
   "metadata": {},
   "outputs": [],
   "source": [
    "# selecting the common columns \n",
    "df = sparkify_clean_churn.select('userId','artist','auth','gender','length','level','location','page','song','time','churned')"
   ]
  },
  {
   "cell_type": "markdown",
   "metadata": {},
   "source": [
    "# Feature Engineering\n",
    "Once you've familiarized yourself with the data, build out the features you find promising to train your model on. To work with the full dataset, you can follow the following steps.\n",
    "- Write a script to extract the necessary features from the smaller subset of data\n",
    "- Ensure that your script is scalable, using the best practices discussed in Lesson 3\n",
    "- Try your script on the full data set, debugging your script if necessary\n",
    "\n",
    "If you are working in the classroom workspace, you can just extract features based on the small subset of data contained here. Be sure to transfer over this work to the larger dataset when you work on your Spark cluster."
   ]
  },
  {
   "cell_type": "code",
   "execution_count": 43,
   "metadata": {},
   "outputs": [],
   "source": [
    "# converting dataset to pandas\n",
    "df_features = df.toPandas()"
   ]
  },
  {
   "cell_type": "code",
   "execution_count": 44,
   "metadata": {},
   "outputs": [
    {
     "data": {
      "text/plain": [
       "userId          0\n",
       "artist      50046\n",
       "auth            0\n",
       "gender          0\n",
       "length      50046\n",
       "level           0\n",
       "location        0\n",
       "page            0\n",
       "song        50046\n",
       "time            0\n",
       "churned         0\n",
       "dtype: int64"
      ]
     },
     "execution_count": 44,
     "metadata": {},
     "output_type": "execute_result"
    }
   ],
   "source": [
    "#checking null values\n",
    "df_features.isna().sum()"
   ]
  },
  {
   "cell_type": "code",
   "execution_count": 45,
   "metadata": {},
   "outputs": [],
   "source": [
    "# cleaning the null values \n",
    "df_clean = df.where(\"artist is not null and length is not null and song is not null\")"
   ]
  },
  {
   "cell_type": "code",
   "execution_count": 46,
   "metadata": {},
   "outputs": [
    {
     "name": "stdout",
     "output_type": "stream",
     "text": [
      "+------+--------------------+---------+------+---------+-----+--------------------+--------+--------------------+-------------------+-------+\n",
      "|userId|              artist|     auth|gender|   length|level|            location|    page|                song|               time|churned|\n",
      "+------+--------------------+---------+------+---------+-----+--------------------+--------+--------------------+-------------------+-------+\n",
      "|100010|Sleeping With Sirens|Logged In|     F|202.97098| free|Bridgeport-Stamfo...|NextSong|Captain Tyin Knot...|2018-10-08 12:58:54|      0|\n",
      "|100010|Francesca Battist...|Logged In|     F|196.54485| free|Bridgeport-Stamfo...|NextSong|Beautiful_ Beauti...|2018-10-08 13:02:16|      0|\n",
      "|100010|              Brutha|Logged In|     F|263.13098| free|Bridgeport-Stamfo...|NextSong|          She's Gone|2018-10-08 13:05:32|      0|\n",
      "|100010|         Josh Ritter|Logged In|     F|316.23791| free|Bridgeport-Stamfo...|NextSong|      Folk Bloodbath|2018-10-08 13:09:55|      0|\n",
      "|100010|               LMFAO|Logged In|     F|183.74485| free|Bridgeport-Stamfo...|NextSong|                 Yes|2018-10-08 13:15:11|      0|\n",
      "|100010|         OneRepublic|Logged In|     F|224.67873| free|Bridgeport-Stamfo...|NextSong|             Secrets|2018-10-08 13:18:14|      0|\n",
      "|100010|       Dwight Yoakam|Logged In|     F| 239.3073| free|Bridgeport-Stamfo...|NextSong|      You're The One|2018-10-08 13:21:58|      0|\n",
      "|100010|      The Chordettes|Logged In|     F|142.41914| free|Bridgeport-Stamfo...|NextSong|          Mr Sandman|2018-10-08 13:25:57|      0|\n",
      "|100010|Coko featuring Ki...|Logged In|     F| 249.3122| free|Bridgeport-Stamfo...|NextSong|           I Get Joy|2018-10-08 13:28:19|      0|\n",
      "|100010|            The Cure|Logged In|     F| 52.27057| free|Bridgeport-Stamfo...|NextSong|     The Final Sound|2018-10-08 13:32:28|      0|\n",
      "|100010|Kid Cudi Vs Crookers|Logged In|     F|162.97751| free|Bridgeport-Stamfo...|NextSong|        Day 'N' Nite|2018-10-08 13:33:20|      0|\n",
      "|100010|            Yeasayer|Logged In|     F|323.44771| free|Bridgeport-Stamfo...|NextSong|                2080|2018-10-08 13:36:02|      0|\n",
      "|100010|             Ben Lee|Logged In|     F|245.78567| free|Bridgeport-Stamfo...|NextSong|        Ache For You|2018-10-08 13:41:25|      0|\n",
      "|100010|  ? & The Mysterians|Logged In|     F|128.10404| free|Bridgeport-Stamfo...|NextSong|    Just Like A Rose|2018-10-08 13:45:30|      0|\n",
      "|100010| Angels and Airwaves|Logged In|     F|302.05342| free|Bridgeport-Stamfo...|NextSong|            The Gift|2018-10-08 13:47:38|      0|\n",
      "|100010|            Karramba|Logged In|     F|177.10975| free|Bridgeport-Stamfo...|NextSong|        Erni & Berni|2018-10-08 13:52:40|      0|\n",
      "|100010|         Biffy Clyro|Logged In|     F|203.33669| free|Bridgeport-Stamfo...|NextSong|           Mountains|2018-10-08 13:55:37|      0|\n",
      "|100010|Dr. Dre / Eminem ...|Logged In|     F|244.21832| free|Bridgeport-Stamfo...|NextSong|What's The Differ...|2018-10-08 13:59:00|      0|\n",
      "|100010|               Tamia|Logged In|     F|243.09506| free|Bridgeport-Stamfo...|NextSong|Officially Missin...|2018-10-08 14:03:04|      0|\n",
      "|100010|     Stanislaw Soyka|Logged In|     F|115.30404| free|Bridgeport-Stamfo...|NextSong|       W Zlobie Lezy|2018-10-08 14:07:07|      0|\n",
      "+------+--------------------+---------+------+---------+-----+--------------------+--------+--------------------+-------------------+-------+\n",
      "only showing top 20 rows\n",
      "\n"
     ]
    }
   ],
   "source": [
    "# checking the first 20 rows\n",
    "df_clean.show()"
   ]
  },
  {
   "cell_type": "code",
   "execution_count": 47,
   "metadata": {},
   "outputs": [
    {
     "data": {
      "text/plain": [
       "userId      0\n",
       "artist      0\n",
       "auth        0\n",
       "gender      0\n",
       "length      0\n",
       "level       0\n",
       "location    0\n",
       "page        0\n",
       "song        0\n",
       "time        0\n",
       "churned     0\n",
       "dtype: int64"
      ]
     },
     "execution_count": 47,
     "metadata": {},
     "output_type": "execute_result"
    }
   ],
   "source": [
    "#checking the null values\n",
    "df_clean.toPandas().isna().sum()"
   ]
  },
  {
   "cell_type": "markdown",
   "metadata": {},
   "source": [
    "#### Converting some of the columns to integer type"
   ]
  },
  {
   "cell_type": "code",
   "execution_count": 48,
   "metadata": {},
   "outputs": [],
   "source": [
    "#converting gender column to integer type with Maile equal to 1 and Female 0\n",
    "conversion = udf(lambda x: 1 if x==\"M\" else 0, IntegerType())"
   ]
  },
  {
   "cell_type": "code",
   "execution_count": 49,
   "metadata": {},
   "outputs": [],
   "source": [
    "#converting level column to integer type with paid equal to 1 and free 0\n",
    "level_conversion = udf(lambda x: 1 if x==\"Paid\" else 0, IntegerType())"
   ]
  },
  {
   "cell_type": "code",
   "execution_count": 50,
   "metadata": {},
   "outputs": [],
   "source": [
    "# applying the conversion udf on gender\n",
    "df_clean = df_clean.withColumn('gender', conversion(df_clean.gender))"
   ]
  },
  {
   "cell_type": "code",
   "execution_count": 51,
   "metadata": {},
   "outputs": [],
   "source": [
    "# applying the conversion udf on level column\n",
    "df_clean = df_clean.withColumn('level', conversion(df_clean.level))"
   ]
  },
  {
   "cell_type": "code",
   "execution_count": 52,
   "metadata": {},
   "outputs": [],
   "source": [
    "# creating a temp table view of the dataset\n",
    "df_clean.createOrReplaceTempView(\"sparkify_cleaned\")"
   ]
  },
  {
   "cell_type": "markdown",
   "metadata": {},
   "source": [
    "#### Selecting the features to train the model"
   ]
  },
  {
   "cell_type": "code",
   "execution_count": 53,
   "metadata": {},
   "outputs": [],
   "source": [
    "# selecting the features \n",
    "df_sparkify_features = spark.sql('''\n",
    "          SELECT\n",
    "          gender,\n",
    "          level,\n",
    "          SUM(case when page = 'Submit Downgrade' then 1 else 0 end) as submit_downgrade,\n",
    "          SUM(case when page = 'Thumbs Down' then 1 else 0 end) as thumbs_down,\n",
    "          SUM(case when page = 'Downgrade' then 1 else 0 end) as downgrade,\n",
    "          SUM(case when page = 'Roll Advert' then 1 else 0 end) as roll_advert,\n",
    "          SUM(case when page = 'Add to Playlist' then 1 else 0 end) as add_to_playlist,\n",
    "          SUM(case when page = 'Add Friend' then 1 else 0 end) as add_friend,\n",
    "          SUM(case when page = 'Thumbs Up' then 1 else 0 end) as thumbs_up,\n",
    "          SUM(case when page = 'Help' then 1 else 0 end) as help,\n",
    "          SUM(case when page = 'Upgrade' then 1 else 0 end) as upgrade,\n",
    "          SUM(case when page = 'Error' then 1 else 0 end) as error,\n",
    "          SUM(case when page = 'Submit Upgrade' then 1 else 0 end) as submit_upgrade,\n",
    "          churned\n",
    "          FROM sparkify_cleaned\n",
    "          GROUP BY userId,churned,gender,level\n",
    "          ''')\n"
   ]
  },
  {
   "cell_type": "code",
   "execution_count": 54,
   "metadata": {},
   "outputs": [
    {
     "name": "stdout",
     "output_type": "stream",
     "text": [
      "+------+-----+----------------+-----------+---------+-----------+---------------+----------+---------+----+-------+-----+--------------+-------+\n",
      "|gender|level|submit_downgrade|thumbs_down|downgrade|roll_advert|add_to_playlist|add_friend|thumbs_up|help|upgrade|error|submit_upgrade|churned|\n",
      "+------+-----+----------------+-----------+---------+-----------+---------------+----------+---------+----+-------+-----+--------------+-------+\n",
      "|     0|    0|               0|          0|        0|          0|              0|         0|        0|   0|      0|    0|             0|      0|\n",
      "|     0|    0|               0|          0|        0|          0|              0|         0|        0|   0|      0|    0|             0|      0|\n",
      "|     1|    0|               0|          0|        0|          0|              0|         0|        0|   0|      0|    0|             0|      0|\n",
      "|     1|    0|               0|          0|        0|          0|              0|         0|        0|   0|      0|    0|             0|      0|\n",
      "|     0|    0|               0|          0|        0|          0|              0|         0|        0|   0|      0|    0|             0|      0|\n",
      "|     0|    0|               0|          0|        0|          0|              0|         0|        0|   0|      0|    0|             0|      0|\n",
      "|     1|    0|               0|          0|        0|          0|              0|         0|        0|   0|      0|    0|             0|      0|\n",
      "|     1|    0|               0|          0|        0|          0|              0|         0|        0|   0|      0|    0|             0|      0|\n",
      "|     0|    0|               0|          0|        0|          0|              0|         0|        0|   0|      0|    0|             0|      0|\n",
      "|     0|    0|               0|          0|        0|          0|              0|         0|        0|   0|      0|    0|             0|      0|\n",
      "|     1|    0|               0|          0|        0|          0|              0|         0|        0|   0|      0|    0|             0|      1|\n",
      "|     1|    0|               0|          0|        0|          0|              0|         0|        0|   0|      0|    0|             0|      1|\n",
      "|     0|    0|               0|          0|        0|          0|              0|         0|        0|   0|      0|    0|             0|      0|\n",
      "|     1|    0|               0|          0|        0|          0|              0|         0|        0|   0|      0|    0|             0|      0|\n",
      "|     0|    0|               0|          0|        0|          0|              0|         0|        0|   0|      0|    0|             0|      0|\n",
      "|     0|    0|               0|          0|        0|          0|              0|         0|        0|   0|      0|    0|             0|      1|\n",
      "|     0|    0|               0|          0|        0|          0|              0|         0|        0|   0|      0|    0|             0|      0|\n",
      "|     0|    0|               0|          0|        0|          0|              0|         0|        0|   0|      0|    0|             0|      1|\n",
      "|     1|    0|               0|          0|        0|          0|              0|         0|        0|   0|      0|    0|             0|      0|\n",
      "|     1|    0|               0|          0|        0|          0|              0|         0|        0|   0|      0|    0|             0|      0|\n",
      "+------+-----+----------------+-----------+---------+-----------+---------------+----------+---------+----+-------+-----+--------------+-------+\n",
      "only showing top 20 rows\n",
      "\n"
     ]
    }
   ],
   "source": [
    "#checking first 20 rows of the feature\n",
    "df_sparkify_features.show()"
   ]
  },
  {
   "cell_type": "code",
   "execution_count": 55,
   "metadata": {},
   "outputs": [
    {
     "name": "stdout",
     "output_type": "stream",
     "text": [
      "root\n",
      " |-- gender: integer (nullable = true)\n",
      " |-- level: integer (nullable = true)\n",
      " |-- submit_downgrade: long (nullable = true)\n",
      " |-- thumbs_down: long (nullable = true)\n",
      " |-- downgrade: long (nullable = true)\n",
      " |-- roll_advert: long (nullable = true)\n",
      " |-- add_to_playlist: long (nullable = true)\n",
      " |-- add_friend: long (nullable = true)\n",
      " |-- thumbs_up: long (nullable = true)\n",
      " |-- help: long (nullable = true)\n",
      " |-- upgrade: long (nullable = true)\n",
      " |-- error: long (nullable = true)\n",
      " |-- submit_upgrade: long (nullable = true)\n",
      " |-- churned: long (nullable = true)\n",
      "\n"
     ]
    }
   ],
   "source": [
    "# checking schema\n",
    "df_sparkify_features.printSchema()"
   ]
  },
  {
   "cell_type": "markdown",
   "metadata": {},
   "source": [
    "#### Changing the churned column name to label to train the model"
   ]
  },
  {
   "cell_type": "code",
   "execution_count": 56,
   "metadata": {},
   "outputs": [],
   "source": [
    "#changing churned column to label\n",
    "df_sparkify_features = df_sparkify_features.withColumnRenamed('churned', 'label')"
   ]
  },
  {
   "cell_type": "code",
   "execution_count": 57,
   "metadata": {},
   "outputs": [],
   "source": [
    "# converting label column from long to int\n",
    "df_sparkify_features = df_sparkify_features.withColumn('label', col('label').cast(IntegerType()))"
   ]
  },
  {
   "cell_type": "code",
   "execution_count": 58,
   "metadata": {},
   "outputs": [
    {
     "data": {
      "text/plain": [
       "['gender',\n",
       " 'level',\n",
       " 'submit_downgrade',\n",
       " 'thumbs_down',\n",
       " 'downgrade',\n",
       " 'roll_advert',\n",
       " 'add_to_playlist',\n",
       " 'add_friend',\n",
       " 'thumbs_up',\n",
       " 'help',\n",
       " 'upgrade',\n",
       " 'error',\n",
       " 'submit_upgrade']"
      ]
     },
     "execution_count": 58,
     "metadata": {},
     "output_type": "execute_result"
    }
   ],
   "source": [
    "# defining input cols for vectorization and scaling\n",
    "input_cols = df_sparkify_features.columns[: -1]\n",
    "input_cols"
   ]
  },
  {
   "cell_type": "markdown",
   "metadata": {},
   "source": [
    "# Modeling\n",
    "Split the full dataset into train, test, and validation sets. Test out several of the machine learning methods you learned. Evaluate the accuracy of the various models, tuning parameters as necessary. Determine your winning model based on test accuracy and report results on the validation set. Since the churned users are a fairly small subset, I suggest using F1 score as the metric to optimize."
   ]
  },
  {
   "cell_type": "markdown",
   "metadata": {},
   "source": [
    "#### Splitting the data into train and test set"
   ]
  },
  {
   "cell_type": "code",
   "execution_count": 59,
   "metadata": {},
   "outputs": [],
   "source": [
    "#splitting the data into train and test\n",
    "train, test = df_sparkify_features.randomSplit([0.80, 0.20], seed=42)"
   ]
  },
  {
   "cell_type": "markdown",
   "metadata": {},
   "source": [
    "#### Converting the features to vectors and Standard scaler"
   ]
  },
  {
   "cell_type": "code",
   "execution_count": 60,
   "metadata": {},
   "outputs": [],
   "source": [
    "# converting the features to vector assembler and Standard Scaler\n",
    "assembler = VectorAssembler(inputCols=input_cols, outputCol=\"VectFeatures\")\n",
    "\n",
    "scaler = StandardScaler(inputCol=\"VectFeatures\", outputCol=\"features\")"
   ]
  },
  {
   "cell_type": "markdown",
   "metadata": {},
   "source": [
    "#### Defining models for training"
   ]
  },
  {
   "cell_type": "code",
   "execution_count": 61,
   "metadata": {},
   "outputs": [],
   "source": [
    "#Defining models for training\n",
    "lr_model = LogisticRegression()\n",
    "rf_model = RandomForestClassifier()"
   ]
  },
  {
   "cell_type": "markdown",
   "metadata": {},
   "source": [
    "#### Defining Pipeline for the Classification models"
   ]
  },
  {
   "cell_type": "code",
   "execution_count": 62,
   "metadata": {},
   "outputs": [],
   "source": [
    "# Models Pipeline\n",
    "lr_pipeline = Pipeline(stages=[assembler, scaler, lr_model])\n",
    "rf_pipeline = Pipeline(stages=[assembler, scaler, rf_model])"
   ]
  },
  {
   "cell_type": "code",
   "execution_count": 63,
   "metadata": {},
   "outputs": [
    {
     "name": "stdout",
     "output_type": "stream",
     "text": [
      "f1-Score is  0.6553606237816765\n"
     ]
    }
   ],
   "source": [
    "# Logistic Regression without Parameters\n",
    "model = lr_pipeline.fit(train)\n",
    "lr_preds = model.transform(test)\n",
    "lr_evaluate = MulticlassClassificationEvaluator(labelCol = \"label\",predictionCol=\"prediction\")\n",
    "f1_score_lr = lr_evaluate.evaluate(lr_preds, {lr_evaluate.metricName: \"f1\"})\n",
    "print ('f1-Score is ', f1_score_lr)"
   ]
  },
  {
   "cell_type": "code",
   "execution_count": 64,
   "metadata": {},
   "outputs": [
    {
     "name": "stdout",
     "output_type": "stream",
     "text": [
      "f1-Score is  0.6553606237816765\n"
     ]
    }
   ],
   "source": [
    "# Random Forest without Parameters\n",
    "model_rf = rf_pipeline.fit(train)\n",
    "rf_preds = model_rf.transform(test)\n",
    "rf_evaluate = MulticlassClassificationEvaluator(labelCol = \"label\",predictionCol=\"prediction\")\n",
    "f1_score_rf = rf_evaluate.evaluate(rf_preds, {rf_evaluate.metricName: \"f1\"})\n",
    "print ('f1-Score is ', f1_score_rf)"
   ]
  },
  {
   "cell_type": "markdown",
   "metadata": {},
   "source": [
    "#### Defining Parameter Grids for the Classification models"
   ]
  },
  {
   "cell_type": "code",
   "execution_count": 65,
   "metadata": {},
   "outputs": [],
   "source": [
    "# Models Parameters Grid for fine tuning\n",
    "lr_paramGrid = ParamGridBuilder() \\\n",
    "    .addGrid(lr_model.maxIter, [5,10,15]) \\\n",
    "    .addGrid(lr_model.regParam, [0.01, 0.1]) \\\n",
    "    .addGrid(lr_model.elasticNetParam,[0.0, 0.8]) \\\n",
    "    .build()\n",
    "rf_paramGrid = ParamGridBuilder()\\\n",
    "            .addGrid(rf_model.impurity,['entropy', 'gini']) \\\n",
    "            .addGrid(rf_model.maxDepth,[2, 4, 6]) \\\n",
    "            .build()"
   ]
  },
  {
   "cell_type": "markdown",
   "metadata": {},
   "source": [
    "#### Defining the CrossValidation for the models to evaluate the model with different paramaters"
   ]
  },
  {
   "cell_type": "code",
   "execution_count": 66,
   "metadata": {},
   "outputs": [],
   "source": [
    "# Cross Validation of the models\n",
    "lr_crossval = CrossValidator(estimator=lr_pipeline,\n",
    "                          estimatorParamMaps=lr_paramGrid,\n",
    "                          evaluator=MulticlassClassificationEvaluator(),\n",
    "                          numFolds=2)\n",
    "rf_crossval = CrossValidator(estimator=rf_pipeline,\n",
    "                          estimatorParamMaps=rf_paramGrid,\n",
    "                          evaluator=MulticlassClassificationEvaluator(),\n",
    "                          numFolds=2)"
   ]
  },
  {
   "cell_type": "markdown",
   "metadata": {},
   "source": [
    "### Logistic Regression"
   ]
  },
  {
   "cell_type": "code",
   "execution_count": 67,
   "metadata": {},
   "outputs": [],
   "source": [
    "# fitting the train set\n",
    "lr_model = lr_crossval.fit(train)\n",
    "# predicting the model on test set\n",
    "lr_predict = lr_model.transform(test)"
   ]
  },
  {
   "cell_type": "code",
   "execution_count": 68,
   "metadata": {},
   "outputs": [],
   "source": [
    "# Evaluation of labels\n",
    "lr_evaluator = MulticlassClassificationEvaluator(labelCol = \"label\",predictionCol=\"prediction\")"
   ]
  },
  {
   "cell_type": "code",
   "execution_count": 69,
   "metadata": {},
   "outputs": [],
   "source": [
    "# checking f1-score of the model\n",
    "lr_f1_score = lr_evaluator.evaluate(lr_predict, {lr_evaluator.metricName: \"f1\"})"
   ]
  },
  {
   "cell_type": "markdown",
   "metadata": {},
   "source": [
    "#### Logistic Regression f1-score"
   ]
  },
  {
   "cell_type": "code",
   "execution_count": 70,
   "metadata": {},
   "outputs": [
    {
     "name": "stdout",
     "output_type": "stream",
     "text": [
      "0.6553606237816765\n"
     ]
    }
   ],
   "source": [
    "# Printing the f1-score\n",
    "print (lr_f1_score)"
   ]
  },
  {
   "cell_type": "markdown",
   "metadata": {},
   "source": [
    "### Random Forest Classification"
   ]
  },
  {
   "cell_type": "code",
   "execution_count": 71,
   "metadata": {},
   "outputs": [],
   "source": [
    "# fitting and predicting the train and test set\n",
    "rf_model = rf_crossval.fit(train)\n",
    "rf_predict = rf_model.transform(test)"
   ]
  },
  {
   "cell_type": "code",
   "execution_count": 72,
   "metadata": {},
   "outputs": [],
   "source": [
    "# Evaluating the label f1-score\n",
    "rf_evaluator = MulticlassClassificationEvaluator(labelCol = \"label\",predictionCol=\"prediction\")\n",
    "rf_f1_score = rf_evaluator.evaluate(rf_predict, {rf_evaluator.metricName: \"f1\"})"
   ]
  },
  {
   "cell_type": "markdown",
   "metadata": {},
   "source": [
    "#### Random Forest Classification f1-score"
   ]
  },
  {
   "cell_type": "code",
   "execution_count": 73,
   "metadata": {},
   "outputs": [
    {
     "name": "stdout",
     "output_type": "stream",
     "text": [
      "0.6553606237816765\n"
     ]
    }
   ],
   "source": [
    "# Printing the f1-score of Random Forest Classification\n",
    "print (rf_f1_score)"
   ]
  },
  {
   "cell_type": "markdown",
   "metadata": {},
   "source": [
    "# Conclusion\n",
    "According to the above f1-scores both the models Logistic Regression and Random Forest performed same in terms of precision and recall having f1-score approximately 65.5%.\n",
    "\n",
    "As the data was messy so it took a bit of time to preprocess the data for exploration and feature engineering even after preprocessing the data during the feature engineering process some more preprocessing was required to make the dataset ready for the Apache Spark modeling purpose.\n",
    "\n",
    "The models has been fit with and without paramter tuning but the results are somehow same while adding and tuning the parameters just increase the running time of fitting the model.\n",
    "\n",
    "As the dataset is too small as compared to the full dataset of 12 GB so it is better to move to the Amazon EMR Cluster to perform these above steps through EDA to featuring engineering then modeling and fine tuning of the model to get even better results in terms of churn rate prediction.\n",
    "\n",
    "### Further Improvements\n",
    "1. Different models can be used to train the data other than Logistic and Random Forest to compare the f1-score of those models with the above ones.\n",
    "2. More parameter grids can be used to train the model which definitely take a lot of time.\n",
    "3. Large number of dataset can be used to train the models to predict the churn rate.\n",
    "4. Extra features will be added to get the better results."
   ]
  },
  {
   "cell_type": "markdown",
   "metadata": {},
   "source": [
    "# Final Steps\n",
    "Clean up your code, adding comments and renaming variables to make the code easier to read and maintain. Refer to the Spark Project Overview page and Data Scientist Capstone Project Rubric to make sure you are including all components of the capstone project and meet all expectations. Remember, this includes thorough documentation in a README file in a Github repository, as well as a web app or blog post."
   ]
  },
  {
   "cell_type": "code",
   "execution_count": null,
   "metadata": {},
   "outputs": [],
   "source": []
  }
 ],
 "metadata": {
  "kernelspec": {
   "display_name": "Python 3",
   "language": "python",
   "name": "python3"
  },
  "language_info": {
   "codemirror_mode": {
    "name": "ipython",
    "version": 3
   },
   "file_extension": ".py",
   "mimetype": "text/x-python",
   "name": "python",
   "nbconvert_exporter": "python",
   "pygments_lexer": "ipython3",
   "version": "3.6.3"
  }
 },
 "nbformat": 4,
 "nbformat_minor": 2
}
